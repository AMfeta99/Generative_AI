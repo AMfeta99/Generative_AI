{
  "nbformat": 4,
  "nbformat_minor": 0,
  "metadata": {
    "colab": {
      "provenance": [],
      "include_colab_link": true
    },
    "kernelspec": {
      "name": "python3",
      "display_name": "Python 3"
    },
    "language_info": {
      "name": "python"
    }
  },
  "cells": [
    {
      "cell_type": "markdown",
      "metadata": {
        "id": "view-in-github",
        "colab_type": "text"
      },
      "source": [
        "<a href=\"https://colab.research.google.com/github/AMfeta99/Generative_AI/blob/main/Dataset_creation.ipynb\" target=\"_parent\"><img src=\"https://colab.research.google.com/assets/colab-badge.svg\" alt=\"Open In Colab\"/></a>"
      ]
    },
    {
      "cell_type": "markdown",
      "source": [
        "#Dataset Preparation & Augmentation for Image Colorization"
      ],
      "metadata": {
        "id": "ZeoV1nnggrgX"
      }
    },
    {
      "cell_type": "markdown",
      "source": [
        "This notebook contains the Python script for preparing and augmenting the COCO 2017 dataset for image colorization tasks. The download_dataset.sh script downloads the dataset, followed by dataset_filter.py which refines the dataset by removing images with low color variation. Then, dataset_prepare.py filters removed images and pushes modified datasets to Hugging Face Hub."
      ],
      "metadata": {
        "id": "utrAV6yxhl-2"
      }
    },
    {
      "cell_type": "code",
      "source": [
        "#install requirements\n",
        "!pip install datasets\n",
        "!pip install tqdm\n",
        "!pip install pillow\n",
        "!pip install openCV"
      ],
      "metadata": {
        "colab": {
          "base_uri": "https://localhost:8080/"
        },
        "id": "kQ--QJNehGr8",
        "outputId": "2c77624d-49d2-4b3e-9767-d76fcd3f3c88"
      },
      "execution_count": null,
      "outputs": [
        {
          "output_type": "stream",
          "name": "stdout",
          "text": [
            "Requirement already satisfied: datasets in /usr/local/lib/python3.10/dist-packages (3.1.0)\n",
            "Requirement already satisfied: filelock in /usr/local/lib/python3.10/dist-packages (from datasets) (3.16.1)\n",
            "Requirement already satisfied: numpy>=1.17 in /usr/local/lib/python3.10/dist-packages (from datasets) (1.26.4)\n",
            "Requirement already satisfied: pyarrow>=15.0.0 in /usr/local/lib/python3.10/dist-packages (from datasets) (17.0.0)\n",
            "Requirement already satisfied: dill<0.3.9,>=0.3.0 in /usr/local/lib/python3.10/dist-packages (from datasets) (0.3.8)\n",
            "Requirement already satisfied: pandas in /usr/local/lib/python3.10/dist-packages (from datasets) (2.2.2)\n",
            "Requirement already satisfied: requests>=2.32.2 in /usr/local/lib/python3.10/dist-packages (from datasets) (2.32.3)\n",
            "Requirement already satisfied: tqdm>=4.66.3 in /usr/local/lib/python3.10/dist-packages (from datasets) (4.66.6)\n",
            "Requirement already satisfied: xxhash in /usr/local/lib/python3.10/dist-packages (from datasets) (3.5.0)\n",
            "Requirement already satisfied: multiprocess<0.70.17 in /usr/local/lib/python3.10/dist-packages (from datasets) (0.70.16)\n",
            "Requirement already satisfied: fsspec<=2024.9.0,>=2023.1.0 in /usr/local/lib/python3.10/dist-packages (from fsspec[http]<=2024.9.0,>=2023.1.0->datasets) (2024.9.0)\n",
            "Requirement already satisfied: aiohttp in /usr/local/lib/python3.10/dist-packages (from datasets) (3.11.2)\n",
            "Requirement already satisfied: huggingface-hub>=0.23.0 in /usr/local/lib/python3.10/dist-packages (from datasets) (0.26.2)\n",
            "Requirement already satisfied: packaging in /usr/local/lib/python3.10/dist-packages (from datasets) (24.2)\n",
            "Requirement already satisfied: pyyaml>=5.1 in /usr/local/lib/python3.10/dist-packages (from datasets) (6.0.2)\n",
            "Requirement already satisfied: aiohappyeyeballs>=2.3.0 in /usr/local/lib/python3.10/dist-packages (from aiohttp->datasets) (2.4.3)\n",
            "Requirement already satisfied: aiosignal>=1.1.2 in /usr/local/lib/python3.10/dist-packages (from aiohttp->datasets) (1.3.1)\n",
            "Requirement already satisfied: attrs>=17.3.0 in /usr/local/lib/python3.10/dist-packages (from aiohttp->datasets) (24.2.0)\n",
            "Requirement already satisfied: frozenlist>=1.1.1 in /usr/local/lib/python3.10/dist-packages (from aiohttp->datasets) (1.5.0)\n",
            "Requirement already satisfied: multidict<7.0,>=4.5 in /usr/local/lib/python3.10/dist-packages (from aiohttp->datasets) (6.1.0)\n",
            "Requirement already satisfied: propcache>=0.2.0 in /usr/local/lib/python3.10/dist-packages (from aiohttp->datasets) (0.2.0)\n",
            "Requirement already satisfied: yarl<2.0,>=1.17.0 in /usr/local/lib/python3.10/dist-packages (from aiohttp->datasets) (1.17.2)\n",
            "Requirement already satisfied: async-timeout<6.0,>=4.0 in /usr/local/lib/python3.10/dist-packages (from aiohttp->datasets) (4.0.3)\n",
            "Requirement already satisfied: typing-extensions>=3.7.4.3 in /usr/local/lib/python3.10/dist-packages (from huggingface-hub>=0.23.0->datasets) (4.12.2)\n",
            "Requirement already satisfied: charset-normalizer<4,>=2 in /usr/local/lib/python3.10/dist-packages (from requests>=2.32.2->datasets) (3.4.0)\n",
            "Requirement already satisfied: idna<4,>=2.5 in /usr/local/lib/python3.10/dist-packages (from requests>=2.32.2->datasets) (3.10)\n",
            "Requirement already satisfied: urllib3<3,>=1.21.1 in /usr/local/lib/python3.10/dist-packages (from requests>=2.32.2->datasets) (2.2.3)\n",
            "Requirement already satisfied: certifi>=2017.4.17 in /usr/local/lib/python3.10/dist-packages (from requests>=2.32.2->datasets) (2024.8.30)\n",
            "Requirement already satisfied: python-dateutil>=2.8.2 in /usr/local/lib/python3.10/dist-packages (from pandas->datasets) (2.8.2)\n",
            "Requirement already satisfied: pytz>=2020.1 in /usr/local/lib/python3.10/dist-packages (from pandas->datasets) (2024.2)\n",
            "Requirement already satisfied: tzdata>=2022.7 in /usr/local/lib/python3.10/dist-packages (from pandas->datasets) (2024.2)\n",
            "Requirement already satisfied: six>=1.5 in /usr/local/lib/python3.10/dist-packages (from python-dateutil>=2.8.2->pandas->datasets) (1.16.0)\n",
            "Requirement already satisfied: tqdm in /usr/local/lib/python3.10/dist-packages (4.66.6)\n",
            "Requirement already satisfied: pillow in /usr/local/lib/python3.10/dist-packages (11.0.0)\n",
            "\u001b[31mERROR: Could not find a version that satisfies the requirement openCV (from versions: none)\u001b[0m\u001b[31m\n",
            "\u001b[0m\u001b[31mERROR: No matching distribution found for openCV\u001b[0m\u001b[31m\n",
            "\u001b[0m"
          ]
        }
      ]
    },
    {
      "cell_type": "code",
      "source": [
        "#Import libraries\n",
        "from datasets import load_dataset\n",
        "\n",
        "import requests\n",
        "from io import BytesIO\n",
        "from PIL import Image\n",
        "import numpy as np"
      ],
      "metadata": {
        "id": "7uc7lcxPgsJt"
      },
      "execution_count": null,
      "outputs": []
    },
    {
      "cell_type": "markdown",
      "source": [
        "\n",
        "\n",
        "Flickr30k https://paperswithcode.com/dataset/flickr30k\n",
        "\n",
        "MPII Human Pose Dataset http://human-pose.mpi-inf.mpg.de/\n",
        "\n",
        "coco minitrain https://github.com/giddyyupp/coco-minitrain?tab=readme-ov-file\n",
        "\n",
        "imageNet-Ctest10k https://paperswithcode.com/dataset/imagenet-ctest10k\n",
        "\n",
        "#### Comparison Table\n",
        "\n",
        "Dataset\tSize\tFocus\tDiversity\tBest For\n",
        "- Flickr30k\t~31,783\tEveryday scenes\tModerate\tGeneral image colorization\n",
        "- MPII Human Pose\t~25,000\tHuman poses and actions\tLow\tHuman-centric colorization\n",
        "- COCO Minitrain\t~5,000\tGeneral-purpose scenes\tHigh\tGeneral image colorization\n",
        "- ImageNet-CTest10k\t10,000\tColorization (natural images)\tHigh\tImage colorization of natural scenes"
      ],
      "metadata": {
        "id": "jnnvckbc2CU7"
      }
    },
    {
      "cell_type": "markdown",
      "source": [
        "### Load dataset\n",
        "COCO minitrain is a subset of the COCO train2017 dataset, and contains 25K images (about 20% of the train2017 set) and around 184K annotations across 80 object categories. We randomly sampled these images from the full set while preserving the following three quantities as much as possible:\n",
        "\n",
        "- proportion of object instances from each class,\n",
        "- overall ratios of small, medium and large objects,\n",
        "- per class ratios of small, medium and large objects."
      ],
      "metadata": {
        "id": "roZorerj7g6j"
      }
    },
    {
      "cell_type": "code",
      "execution_count": null,
      "metadata": {
        "id": "LlhBI8j1duXF"
      },
      "outputs": [],
      "source": [
        "!pip install gdown"
      ]
    },
    {
      "cell_type": "code",
      "source": [
        "# Example to load COCO annotations using pycocotools\n",
        "from pycocotools.coco import COCO\n",
        "\n",
        "# Load the COCO annotations file\n",
        "coco = COCO('/path/to/annotations/instances_train2017_minicoco.json')\n",
        "\n",
        "# Example: Get a list of all categories\n",
        "categories = coco.loadCats(coco.getCatIds())\n",
        "print(categories)\n",
        "\n",
        "# Load a sample image and its annotations (bounding boxes, segmentation, etc.)\n",
        "img_id = coco.getImgIds()[0]\n",
        "img = coco.loadImgs(img_id)[0]\n",
        "print(f\"Image details: {img}\")"
      ],
      "metadata": {
        "id": "JWoNUi9aAFWA"
      },
      "execution_count": null,
      "outputs": []
    },
    {
      "cell_type": "code",
      "source": [
        "from datasets import load_dataset\n",
        "\n",
        "# Load the COCO Minitrain dataset\n",
        "dataset = load_dataset(\"coco_minitrain\")\n",
        "\n",
        "# Check the structure of the dataset\n",
        "print(dataset)"
      ],
      "metadata": {
        "id": "SmrDbQNuAG_-"
      },
      "execution_count": null,
      "outputs": []
    },
    {
      "cell_type": "markdown",
      "source": [],
      "metadata": {
        "id": "vbQ9ta-SAI1G"
      }
    },
    {
      "cell_type": "code",
      "source": [
        "# Mount Google Drive (if the data is stored there)\n",
        "from google.colab import drive\n",
        "drive.mount('/content/drive')\n",
        "\n",
        "# Install necessary libraries\n",
        "!pip install pycocotools datasets gdown\n",
        "\n",
        "# Download the dataset from Google Drive using gdown or manually upload to Colab\n",
        "!gdown --id <file_id>\n",
        "\n",
        "# Unzip the dataset if it's in zip format\n",
        "!unzip /content/drive/MyDrive/datasets/coco_minitrain_25k.zip -d /content/coco_minitrain\n",
        "\n",
        "# Load COCO annotations using pycocotools\n",
        "from pycocotools.coco import COCO\n",
        "annotation_file = '/content/coco_minitrain/annotations/instances_train2017_minicoco.json'\n",
        "coco = COCO(annotation_file)\n",
        "\n",
        "# Function to convert COCO annotations to Hugging Face dataset format\n",
        "from datasets import Dataset, DatasetDict\n",
        "\n",
        "def create_coco_hf_dataset(coco):\n",
        "    data = []\n",
        "    for img_id in coco.getImgIds():\n",
        "        img = coco.loadImgs(img_id)[0]\n",
        "        annotations = coco.loadAnns(coco.getAnnIds(imgIds=img_id))\n",
        "        data_dict = {\n",
        "            'image_id': img_id,\n",
        "            'image': img,\n",
        "            'annotations': annotations\n",
        "        }\n",
        "        data.append(data_dict)\n",
        "\n",
        "    hf_dataset = Dataset.from_list(data)\n",
        "    return hf_dataset\n",
        "\n",
        "# Create Hugging Face dataset\n",
        "coco_hf_dataset = create_coco_hf_dataset(coco)\n",
        "coco_hf_dataset = DatasetDict({\"train\": coco_hf_dataset})\n",
        "\n",
        "# Show the dataset\n",
        "print(coco_hf_dataset)"
      ],
      "metadata": {
        "id": "A-8YLkXYAJIb"
      },
      "execution_count": null,
      "outputs": []
    }
  ]
}